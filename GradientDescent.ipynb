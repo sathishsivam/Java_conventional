{
  "nbformat": 4,
  "nbformat_minor": 0,
  "metadata": {
    "colab": {
      "name": "GradientDescent.ipynb",
      "version": "0.3.2",
      "provenance": [],
      "include_colab_link": true
    },
    "kernelspec": {
      "name": "python3",
      "display_name": "Python 3"
    },
    "accelerator": "GPU"
  },
  "cells": [
    {
      "cell_type": "markdown",
      "metadata": {
        "id": "view-in-github",
        "colab_type": "text"
      },
      "source": [
        "<a href=\"https://colab.research.google.com/github/sathishsivam/Java_conventional/blob/master/GradientDescent.ipynb\" target=\"_parent\"><img src=\"https://colab.research.google.com/assets/colab-badge.svg\" alt=\"Open In Colab\"/></a>"
      ]
    },
    {
      "metadata": {
        "id": "iy3_eUcdNFNw",
        "colab_type": "text"
      },
      "cell_type": "markdown",
      "source": [
        "We have random number of lines, and it’s very difficult to invoke permutation and combination of m and b values for selecting the best fit line this is inefficient.  You want to take efficient approach that is called as Gradient Descent.\n"
      ]
    },
    {
      "metadata": {
        "id": "N6jNwDyxNOmA",
        "colab_type": "text"
      },
      "cell_type": "markdown",
      "source": [
        "Gradient Descent is an algorithm that finds the best fit line for given training data set"
      ]
    },
    {
      "metadata": {
        "id": "bLyR2ei7NY2O",
        "colab_type": "text"
      },
      "cell_type": "markdown",
      "source": [
        "**Let us see how Gradient Descent works now.\n",
        "I have drawn different values of m (slope) and b (intercept) for every value of m and b we will find some cost.\n",
        "What we want to do is we want to start with some value of m and b. \n",
        "**"
      ]
    },
    {
      "metadata": {
        "id": "b8hRpNZpNfZI",
        "colab_type": "text"
      },
      "cell_type": "markdown",
      "source": [
        ""
      ]
    },
    {
      "metadata": {
        "id": "AcU9bFZ_NOIw",
        "colab_type": "code",
        "colab": {}
      },
      "cell_type": "code",
      "source": [
        ""
      ],
      "execution_count": 0,
      "outputs": []
    },
    {
      "metadata": {
        "id": "rvctuvh4IXx4",
        "colab_type": "code",
        "colab": {}
      },
      "cell_type": "code",
      "source": [
        "import numpy as np"
      ],
      "execution_count": 0,
      "outputs": []
    },
    {
      "metadata": {
        "id": "UKHkDX-LKVg4",
        "colab_type": "code",
        "colab": {}
      },
      "cell_type": "code",
      "source": [
        "def gradient_descent(x,y):\n",
        "  \n",
        "  m_curr=b_curr=0\n",
        "  n=len(x)\n",
        "  iterations=10000\n",
        "  learning_rate=0.001\n",
        "  \n",
        "  for i in range(iterations):\n",
        "    \n",
        "    y_pred=m_curr*x+b_curr\n",
        "    \n",
        "    cost=(1/n)* sum([i**2 for i in range(y-y_pred)])\n",
        "    \n",
        "    md=-(2/n) * sum(x* (y-y_pred))\n",
        "    \n",
        "    bd=-(2/n) * sum(y-y_pred)\n",
        "    \n",
        "    m_curr=m_curr-learning_rate*md\n",
        "    b_curr=b_curr-learning_rate*bd\n",
        "    \n",
        "    print(\"m {},b {},cost {},iterations {}\".format(m_curr,b_curr,cost,i))\n",
        "    \n",
        "    \n",
        "    \n",
        "    \n",
        "    \n",
        "  "
      ],
      "execution_count": 0,
      "outputs": []
    },
    {
      "metadata": {
        "id": "ZgQFFre8LMk3",
        "colab_type": "code",
        "colab": {}
      },
      "cell_type": "code",
      "source": [
        "x=np.array([1,2,3,4,5])\n",
        "y=np.array([5,7,9,11,13])"
      ],
      "execution_count": 0,
      "outputs": []
    },
    {
      "metadata": {
        "id": "hbdqk_6ZLazI",
        "colab_type": "code",
        "colab": {}
      },
      "cell_type": "code",
      "source": [
        "gradient_descent(x,y)"
      ],
      "execution_count": 0,
      "outputs": []
    },
    {
      "metadata": {
        "id": "X_DwjIpCLdIP",
        "colab_type": "code",
        "colab": {}
      },
      "cell_type": "code",
      "source": [
        ""
      ],
      "execution_count": 0,
      "outputs": []
    }
  ]
}