{
  "nbformat": 4,
  "nbformat_minor": 0,
  "metadata": {
    "colab": {
      "name": "Linearreg_multivariate.ipynb",
      "version": "0.3.2",
      "provenance": [],
      "collapsed_sections": [],
      "include_colab_link": true
    },
    "kernelspec": {
      "name": "python3",
      "display_name": "Python 3"
    }
  },
  "cells": [
    {
      "cell_type": "markdown",
      "metadata": {
        "id": "view-in-github",
        "colab_type": "text"
      },
      "source": [
        "<a href=\"https://colab.research.google.com/github/sathishsivam/Java_conventional/blob/master/Linearreg_multivariate.ipynb\" target=\"_parent\"><img src=\"https://colab.research.google.com/assets/colab-badge.svg\" alt=\"Open In Colab\"/></a>"
      ]
    },
    {
      "metadata": {
        "id": "idnaMuGvsU4P",
        "colab_type": "text"
      },
      "cell_type": "markdown",
      "source": [
        "Linear regression with Multiple variables a.k.a multivariate Regression\n",
        "\n"
      ]
    },
    {
      "metadata": {
        "id": "vtu7KF4ztEqI",
        "colab_type": "code",
        "colab": {}
      },
      "cell_type": "code",
      "source": [
        "data=pd.DataFrame({\"Area\":[2600,3000,3200,3600,4000,4100],\"Bedrooms\":[3,4,2,3,5,6],\"Age\":[20,15,18,30,8,6],\"Price\":[550000,565000,610000,590000,760000,810000\n",
        "                                                                                                                   ]})"
      ],
      "execution_count": 0,
      "outputs": []
    },
    {
      "metadata": {
        "id": "DHtZG-ddt6Gw",
        "colab_type": "code",
        "outputId": "24b64c51-8f78-4e5d-8f88-a7f9beb8b217",
        "colab": {
          "base_uri": "https://localhost:8080/",
          "height": 235
        }
      },
      "cell_type": "code",
      "source": [
        "data"
      ],
      "execution_count": 0,
      "outputs": [
        {
          "output_type": "execute_result",
          "data": {
            "text/html": [
              "<div>\n",
              "<style scoped>\n",
              "    .dataframe tbody tr th:only-of-type {\n",
              "        vertical-align: middle;\n",
              "    }\n",
              "\n",
              "    .dataframe tbody tr th {\n",
              "        vertical-align: top;\n",
              "    }\n",
              "\n",
              "    .dataframe thead th {\n",
              "        text-align: right;\n",
              "    }\n",
              "</style>\n",
              "<table border=\"1\" class=\"dataframe\">\n",
              "  <thead>\n",
              "    <tr style=\"text-align: right;\">\n",
              "      <th></th>\n",
              "      <th>Age</th>\n",
              "      <th>Area</th>\n",
              "      <th>Bedrooms</th>\n",
              "      <th>Price</th>\n",
              "    </tr>\n",
              "  </thead>\n",
              "  <tbody>\n",
              "    <tr>\n",
              "      <th>0</th>\n",
              "      <td>20</td>\n",
              "      <td>2600</td>\n",
              "      <td>3</td>\n",
              "      <td>550000</td>\n",
              "    </tr>\n",
              "    <tr>\n",
              "      <th>1</th>\n",
              "      <td>15</td>\n",
              "      <td>3000</td>\n",
              "      <td>4</td>\n",
              "      <td>565000</td>\n",
              "    </tr>\n",
              "    <tr>\n",
              "      <th>2</th>\n",
              "      <td>18</td>\n",
              "      <td>3200</td>\n",
              "      <td>2</td>\n",
              "      <td>610000</td>\n",
              "    </tr>\n",
              "    <tr>\n",
              "      <th>3</th>\n",
              "      <td>30</td>\n",
              "      <td>3600</td>\n",
              "      <td>3</td>\n",
              "      <td>590000</td>\n",
              "    </tr>\n",
              "    <tr>\n",
              "      <th>4</th>\n",
              "      <td>8</td>\n",
              "      <td>4000</td>\n",
              "      <td>5</td>\n",
              "      <td>760000</td>\n",
              "    </tr>\n",
              "    <tr>\n",
              "      <th>5</th>\n",
              "      <td>6</td>\n",
              "      <td>4100</td>\n",
              "      <td>6</td>\n",
              "      <td>810000</td>\n",
              "    </tr>\n",
              "  </tbody>\n",
              "</table>\n",
              "</div>"
            ],
            "text/plain": [
              "   Age  Area  Bedrooms   Price\n",
              "0   20  2600         3  550000\n",
              "1   15  3000         4  565000\n",
              "2   18  3200         2  610000\n",
              "3   30  3600         3  590000\n",
              "4    8  4000         5  760000\n",
              "5    6  4100         6  810000"
            ]
          },
          "metadata": {
            "tags": []
          },
          "execution_count": 38
        }
      ]
    },
    {
      "metadata": {
        "id": "qMZoLCp0uuxf",
        "colab_type": "text"
      },
      "cell_type": "markdown",
      "source": [
        ""
      ]
    },
    {
      "metadata": {
        "id": "x1tksyI2uyIO",
        "colab_type": "text"
      },
      "cell_type": "markdown",
      "source": [
        "In this illustration we are going to build a model to predict the price of the house with multivariableswher\n",
        "\n",
        "\n",
        "y=mx+b\n",
        "\n",
        "where \n",
        "\n",
        "y is price of the house to be predicted  (Dependent variable)\n",
        "\n",
        "m is the co-efficient\n",
        "\n",
        "x is a area, age, bedroom (features)    (Independent variables )\n",
        "\n",
        "b is intercept\n",
        "\n",
        "\n",
        "\n",
        "from the above dataset\n",
        "\n",
        "\n",
        "price=m1(area) +  m2(age)   +   m3(bedrooms)+ b\n",
        "\n",
        "a.k.a\n",
        "\n",
        "                                  y=m1x1+m2x2+m3x3+b\n",
        "\n",
        "\n"
      ]
    },
    {
      "metadata": {
        "id": "-SbQcC5Fu8TC",
        "colab_type": "code",
        "colab": {}
      },
      "cell_type": "code",
      "source": [
        "from sklearn.linear_model import LinearRegression"
      ],
      "execution_count": 0,
      "outputs": []
    },
    {
      "metadata": {
        "id": "HtWrMMtUxHKe",
        "colab_type": "code",
        "colab": {}
      },
      "cell_type": "code",
      "source": [
        "model=LinearRegression()"
      ],
      "execution_count": 0,
      "outputs": []
    },
    {
      "metadata": {
        "id": "uBGOiiTLxKWL",
        "colab_type": "code",
        "outputId": "f8e505ff-2857-45a4-a64b-a67c04fda3eb",
        "colab": {
          "base_uri": "https://localhost:8080/",
          "height": 51
        }
      },
      "cell_type": "code",
      "source": [
        "model.fit(data[['Area','Age','Bedrooms']],data.Price)"
      ],
      "execution_count": 0,
      "outputs": [
        {
          "output_type": "execute_result",
          "data": {
            "text/plain": [
              "LinearRegression(copy_X=True, fit_intercept=True, n_jobs=None,\n",
              "         normalize=False)"
            ]
          },
          "metadata": {
            "tags": []
          },
          "execution_count": 41
        }
      ]
    },
    {
      "metadata": {
        "id": "mmNtxjp2xWwg",
        "colab_type": "code",
        "outputId": "53778dff-4316-4227-e2da-db3be75b5bd6",
        "colab": {
          "base_uri": "https://localhost:8080/",
          "height": 34
        }
      },
      "cell_type": "code",
      "source": [
        "model.predict([[4000,8,5]])"
      ],
      "execution_count": 0,
      "outputs": [
        {
          "output_type": "execute_result",
          "data": {
            "text/plain": [
              "array([767595.06057075])"
            ]
          },
          "metadata": {
            "tags": []
          },
          "execution_count": 49
        }
      ]
    },
    {
      "metadata": {
        "id": "bpoVb3xMxl-n",
        "colab_type": "code",
        "outputId": "b62a2419-2b45-42c0-8886-703a8d091f94",
        "colab": {
          "base_uri": "https://localhost:8080/",
          "height": 34
        }
      },
      "cell_type": "code",
      "source": [
        "model.coef_"
      ],
      "execution_count": 0,
      "outputs": [
        {
          "output_type": "execute_result",
          "data": {
            "text/plain": [
              "array([  125.73595187, -5611.62058111,   789.30334594])"
            ]
          },
          "metadata": {
            "tags": []
          },
          "execution_count": 50
        }
      ]
    },
    {
      "metadata": {
        "id": "RIqamvrsxoxC",
        "colab_type": "code",
        "outputId": "d2711f19-494a-4e02-be22-4ad933e68afa",
        "colab": {
          "base_uri": "https://localhost:8080/",
          "height": 34
        }
      },
      "cell_type": "code",
      "source": [
        "model.intercept_"
      ],
      "execution_count": 0,
      "outputs": [
        {
          "output_type": "execute_result",
          "data": {
            "text/plain": [
              "305597.70102877513"
            ]
          },
          "metadata": {
            "tags": []
          },
          "execution_count": 51
        }
      ]
    },
    {
      "metadata": {
        "id": "LoXV-omOyb1W",
        "colab_type": "text"
      },
      "cell_type": "markdown",
      "source": [
        "As we know that the Linear Equation for the regression is\n",
        "           y=mx+b\n",
        "\n",
        "\n",
        "           price="
      ]
    },
    {
      "metadata": {
        "id": "E69XTy0Ixtnv",
        "colab_type": "code",
        "colab": {}
      },
      "cell_type": "code",
      "source": [
        "price_pred=125.73595187*4000+-5611.62058111*8+789.30334594*5+305597.70102877513"
      ],
      "execution_count": 0,
      "outputs": []
    },
    {
      "metadata": {
        "id": "2DrLO4ZgyTuA",
        "colab_type": "code",
        "outputId": "f3ead9d6-5474-46aa-ddda-cca09696080f",
        "colab": {
          "base_uri": "https://localhost:8080/",
          "height": 34
        }
      },
      "cell_type": "code",
      "source": [
        "price_pred"
      ],
      "execution_count": 0,
      "outputs": [
        {
          "output_type": "execute_result",
          "data": {
            "text/plain": [
              "767595.060589595"
            ]
          },
          "metadata": {
            "tags": []
          },
          "execution_count": 55
        }
      ]
    },
    {
      "metadata": {
        "id": "fSygV3bH0L9u",
        "colab_type": "code",
        "colab": {}
      },
      "cell_type": "code",
      "source": [
        ""
      ],
      "execution_count": 0,
      "outputs": []
    }
  ]
}